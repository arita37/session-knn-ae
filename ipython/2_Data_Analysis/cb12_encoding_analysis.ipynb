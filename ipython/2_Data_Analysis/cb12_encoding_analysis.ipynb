{
 "cells": [
  {
   "cell_type": "code",
   "execution_count": null,
   "metadata": {},
   "outputs": [],
   "source": [
    "# set seed to reproduce results with tf and keras\n",
    "from numpy.random import seed\n",
    "seed(1)\n",
    "# other imports\n",
    "import numpy as np\n",
    "import matplotlib.pyplot as plt\n",
    "import pickle\n",
    "import numpy as np\n",
    "import pandas as pd\n",
    "import pandas as pd\n",
    "\n",
    "path =  \"../../data/\"\n",
    "dataset = \"cb12/\"\n",
    "\n",
    "raw_path = path + dataset + \"raw/\" \n",
    "interim_path = path + dataset + \"interim/\"\n",
    "processed_path = path + dataset + \"processed/\""
   ]
  },
  {
   "cell_type": "code",
   "execution_count": null,
   "metadata": {},
   "outputs": [],
   "source": [
    "interactions = pd.read_csv(interim_path + \"/interactions.csv\", header=0, sep='\\t')\n",
    "items = pd.read_csv(interim_path + \"items.csv\", header=0, sep='\\t')\n",
    "view_fields = [\"item_id\", \"state\", \"ReqTopic\", \"DescTopic\", \"TitTopic\"]\n",
    "common_items = items.merge(interactions, on=['item_id'])[view_fields].drop_duplicates()\n",
    "print(len(common_items))\n",
    "common_items.head()"
   ]
  },
  {
   "cell_type": "code",
   "execution_count": null,
   "metadata": {},
   "outputs": [],
   "source": [
    "content_fields = [\"state\", \"ReqTopic\", \"DescTopic\", \"TitTopic\"]\n",
    "\n",
    "one_hot = pd.get_dummies(data=common_items[view_fields], columns=content_fields)\n",
    "print(one_hot.shape)\n",
    "one_hot = one_hot.set_index(\"item_id\")\n",
    "one_hot.head()"
   ]
  },
  {
   "cell_type": "code",
   "execution_count": null,
   "metadata": {},
   "outputs": [],
   "source": [
    "combined = one_hot.applymap(str)\n",
    "combined[\"repr\"] = combined.apply(lambda x: ''.join(x), axis=1)\n",
    "combined.head()"
   ]
  },
  {
   "cell_type": "code",
   "execution_count": null,
   "metadata": {},
   "outputs": [],
   "source": [
    "unique = combined[\"repr\"].nunique()\n",
    "total = len(combined[\"repr\"])\n",
    "ratio = unique / total\n",
    "ratio"
   ]
  },
  {
   "cell_type": "code",
   "execution_count": null,
   "metadata": {},
   "outputs": [],
   "source": []
  }
 ],
 "metadata": {
  "kernelspec": {
   "display_name": "Python 3",
   "language": "python",
   "name": "python3"
  },
  "language_info": {
   "codemirror_mode": {
    "name": "ipython",
    "version": 3
   },
   "file_extension": ".py",
   "mimetype": "text/x-python",
   "name": "python",
   "nbconvert_exporter": "python",
   "pygments_lexer": "ipython3",
   "version": "3.7.1"
  }
 },
 "nbformat": 4,
 "nbformat_minor": 4
}
