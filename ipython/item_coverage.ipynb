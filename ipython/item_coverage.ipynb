{
 "cells": [
  {
   "cell_type": "code",
   "execution_count": null,
   "metadata": {},
   "outputs": [],
   "source": [
    "import pandas as pd\n",
    "import numpy as np"
   ]
  },
  {
   "cell_type": "code",
   "execution_count": null,
   "metadata": {},
   "outputs": [],
   "source": [
    "path =  \"../data/\"\n",
    "\n",
    "#dataset = \"recsys17/\"\n",
    "dataset = \"cb12/\"\n",
    "\n",
    "predict_path = path + dataset + \"interim/predict/\"\n",
    "processed_path = path + dataset + \"processed/\"\n",
    "\n",
    "\n",
    "algo_files = {\n",
    "    \"vae_int\": \"r_no_0.0_vae_test_14d_topks_60.csv\",\n",
    "    \"vae_cont\": \"content_r_no_0.0_vae_test_14d_topks_60.csv\",\n",
    "    \"sknn\": \"base/test_14d_cknn.csv\",\n",
    "    \"ssknn\": \"base/test_14d_scknn.csv\",\n",
    "    \"vsknn\": \"base/test_14d_vcknn.csv\",\n",
    "    \"gru4rec\": \"base/test_14d_gru.csv\",\n",
    "    \"bayes\": \"base/test_d14_bayes_test.csv\",\n",
    "    \"iknn\": \"base/test_14d_iknn.csv\",\n",
    "    \"bpr\": \"base/test_14d_bpr.csv\",\n",
    "    \"pop\": \"base/test_14d_pop.csv\",\n",
    "    \"prnn\": \"base/test_14d_prnn.csv\"\n",
    "}\n"
   ]
  },
  {
   "cell_type": "code",
   "execution_count": null,
   "metadata": {},
   "outputs": [],
   "source": [
    "train_full_sessions = pd.read_csv(processed_path + \"train_14d.csv\", sep='\\t')\n",
    "test_sessions = pd.read_csv(processed_path + \"test_14d.csv\", sep='\\t')\n",
    "\n",
    "test_sessions['item_id'] = test_sessions['item_id'].apply(str)\n",
    "\n",
    "train_item_len = len(train_full_sessions.item_id.unique())\n",
    "test_item_len = len(test_sessions.item_id.unique())\n",
    "merged_items = train_full_sessions.append(test_sessions, ignore_index=True)\n",
    "\n",
    "merged_items['item_id'] = merged_items['item_id'].apply(str)\n",
    "\n",
    "\n",
    "merged_item_len = len(merged_items.item_id.unique())\n",
    "\n",
    "print(\"Training - Items: \" + str(train_item_len))\n",
    "print(\"Testing - Items: \" + str(test_item_len))\n",
    "print(\"Train + Test - Items: \" + str(merged_item_len))"
   ]
  },
  {
   "cell_type": "code",
   "execution_count": null,
   "metadata": {},
   "outputs": [],
   "source": [
    "def calc_coverage(all_preds):\n",
    "    all_preds = set(np.concatenate(preds['predictions'].values))\n",
    "    num_pred = len(all_preds)\n",
    "    \n",
    "    pred_item_total = len(all_preds.intersection(merged_items.item_id.unique()))\n",
    "    total_ratio = pred_item_total/merged_item_len\n",
    "    \n",
    "    pred_item_test = len(all_preds.intersection(test_sessions.item_id.unique()))\n",
    "    test_ratio = pred_item_test/test_item_len\n",
    "\n",
    "    return num_pred, pred_item_total, total_ratio, pred_item_test, test_ratio"
   ]
  },
  {
   "cell_type": "code",
   "execution_count": null,
   "metadata": {},
   "outputs": [],
   "source": [
    "for algo_name, algo_file in algo_files.items():\n",
    "    preds = pd.read_csv(predict_path + algo_file, header=0, sep='\\t', index_col=0)\n",
    "    preds[\"predictions\"] = preds[\"predictions\"].str.split(\",\")\n",
    "    all_preds = set(np.concatenate(preds['predictions'].values))\n",
    "    res = calc_coverage(all_preds)\n",
    "    print(f\"{algo_name:8s}: total - test\")\n",
    "    print(f\"Ratio   : {res[2]*100:.2f} - {res[4]*100:.2f}\")\n",
    "    print(f\"#       : {res[1]} - {res[3]}\")\n",
    "    print()"
   ]
  },
  {
   "cell_type": "code",
   "execution_count": null,
   "metadata": {},
   "outputs": [],
   "source": []
  },
  {
   "cell_type": "code",
   "execution_count": null,
   "metadata": {},
   "outputs": [],
   "source": []
  }
 ],
 "metadata": {
  "kernelspec": {
   "display_name": "Python 3",
   "language": "python",
   "name": "python3"
  },
  "language_info": {
   "codemirror_mode": {
    "name": "ipython",
    "version": 3
   },
   "file_extension": ".py",
   "mimetype": "text/x-python",
   "name": "python",
   "nbconvert_exporter": "python",
   "pygments_lexer": "ipython3",
   "version": "3.7.1"
  }
 },
 "nbformat": 4,
 "nbformat_minor": 2
}
