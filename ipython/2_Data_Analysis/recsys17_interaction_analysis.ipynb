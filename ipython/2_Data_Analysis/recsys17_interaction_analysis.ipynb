{
 "cells": [
  {
   "cell_type": "code",
   "execution_count": null,
   "metadata": {},
   "outputs": [],
   "source": [
    "import numpy as np\n",
    "import pandas as pd\n",
    "import subprocess\n",
    "import argparse\n",
    "import matplotlib.pyplot as plt\n",
    "import matplotlib.ticker as tck\n",
    "from matplotlib import rc\n",
    "rc('font', **{'family': 'serif', 'serif': ['Computer Modern']})\n",
    "rc('text', usetex=True)\n",
    "\n",
    "def bins_labels(bins, startValue=0, **kwargs):\n",
    "    bin_w = (max(bins) - min(bins)) / (len(bins) - 1)\n",
    "    plt.xticks(np.arange(min(bins)+bin_w/2, max(bins), bin_w), bins, **kwargs)\n",
    "    plt.xlim(bins[startValue], bins[-1])"
   ]
  },
  {
   "cell_type": "code",
   "execution_count": null,
   "metadata": {},
   "outputs": [],
   "source": [
    "interactions = pd.read_csv(\"../../data/recsys17/interim/interactions.csv\", header=0, sep='\\t')\n",
    "# remove interactions of type 'delete'\n",
    "# remve impressions\n",
    "interactions = interactions[interactions.interaction_type >= 1].copy()\n",
    "# remove delete and headhunter event\n",
    "interactions = interactions[interactions.interaction_type < 4].copy()"
   ]
  },
  {
   "cell_type": "code",
   "execution_count": null,
   "metadata": {},
   "outputs": [],
   "source": [
    "#interactions.interaction_type.plot(kind=\"bar\")\n",
    "interaction_sizes = interactions.groupby(\"interaction_type\").size()\n",
    "interaction_sizes"
   ]
  },
  {
   "cell_type": "code",
   "execution_count": null,
   "metadata": {},
   "outputs": [],
   "source": [
    "%matplotlib inline\n",
    "f, ax = plt.subplots(1,1,figsize=(15,8))\n",
    "\n",
    "interaction_sizes.plot(kind=\"bar\", logy=False, ax = ax, color = \"skyblue\", ec=\"black\")\n",
    "ax.set_xticklabels([\"CLICK\", \"MARK\", \"APPLY\"], rotation='horizontal')\n",
    "\n",
    "font = 55\n",
    "font_tick = 40\n",
    "\n",
    "for tick in ax.xaxis.get_major_ticks():\n",
    "    tick.label.set_fontsize(font_tick) \n",
    "for tick in ax.yaxis.get_major_ticks():\n",
    "    tick.label.set_fontsize(font_tick) \n",
    "    \n",
    "ax.get_yaxis().set_major_formatter(\n",
    "    tck.FuncFormatter(lambda x, p: format(int(x), ',')))\n",
    "\n",
    "ax.set_title('RecSys 2017', fontsize = font)\n",
    "ax.set_xlabel('Interaction Type', fontsize = font)\n",
    "ax.set_ylabel('\\# Interactions', fontsize = font)\n",
    "f.tight_layout()\n",
    "f.savefig(\"../../plots/recsys17_interactions.pdf\", dpi=300, bbox_inches='tight')"
   ]
  },
  {
   "cell_type": "code",
   "execution_count": null,
   "metadata": {},
   "outputs": [],
   "source": [
    "%matplotlib inline\n",
    "f, ax = plt.subplots(1,1,figsize=(15,8))\n",
    "\n",
    "session_sizes = interactions.groupby(\"session_id\").size()\n",
    "print(session_sizes.max())\n",
    "session_sizes.plot(kind=\"hist\", logy=True, ax = ax, bins=25, color = \"skyblue\", ec=\"black\")\n",
    "\n",
    "font = 55\n",
    "font_tick = 40\n",
    "\n",
    "for tick in ax.xaxis.get_major_ticks():\n",
    "    tick.label.set_fontsize(font_tick) \n",
    "for tick in ax.yaxis.get_major_ticks():\n",
    "    tick.label.set_fontsize(font_tick) \n",
    "\n",
    "ax.set_title('RecSys 2017', fontsize = font)\n",
    "ax.set_xlabel('Interactions in session', fontsize = font)\n",
    "ax.set_ylabel('\\# Sessions', fontsize = font)\n",
    "ax.xaxis.grid(True, which='major', linestyle='-', linewidth=0.35)\n",
    "ax.yaxis.grid(True, which='major', linestyle='-', linewidth=0.35)\n",
    "plt.minorticks_on()\n",
    "f.tight_layout()\n",
    "f.savefig(\"../../plots/recsys17_session_sizes.pdf\", dpi=300, bbox_inches='tight')"
   ]
  },
  {
   "cell_type": "code",
   "execution_count": null,
   "metadata": {},
   "outputs": [],
   "source": []
  }
 ],
 "metadata": {
  "kernelspec": {
   "display_name": "Python 3",
   "language": "python",
   "name": "python3"
  },
  "language_info": {
   "codemirror_mode": {
    "name": "ipython",
    "version": 3
   },
   "file_extension": ".py",
   "mimetype": "text/x-python",
   "name": "python",
   "nbconvert_exporter": "python",
   "pygments_lexer": "ipython3",
   "version": "3.7.1"
  }
 },
 "nbformat": 4,
 "nbformat_minor": 4
}
