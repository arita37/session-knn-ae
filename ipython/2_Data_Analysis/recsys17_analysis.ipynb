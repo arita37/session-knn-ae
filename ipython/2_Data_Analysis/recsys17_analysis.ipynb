{
 "cells": [
  {
   "cell_type": "code",
   "execution_count": null,
   "metadata": {},
   "outputs": [],
   "source": [
    "import numpy as np\n",
    "import pandas as pd\n",
    "import subprocess\n",
    "import argparse\n",
    "import matplotlib.pyplot as plt\n",
    "import matplotlib.ticker as tck\n",
    "import matplotlib.font_manager\n",
    "from matplotlib import rc\n",
    "#rc('font', **{'family': 'serif', 'serif': ['Computer Modern']})\n",
    "#rc('text', usetex=True)\n",
    "\n",
    "def bins_labels(bins, startValue=0, **kwargs):\n",
    "    bin_w = (max(bins) - min(bins)) / (len(bins) - 1)\n",
    "    plt.xticks(np.arange(min(bins)+bin_w/2, max(bins), bin_w), bins, **kwargs)\n",
    "    plt.xlim(bins[startValue], bins[-1])"
   ]
  },
  {
   "cell_type": "code",
   "execution_count": null,
   "metadata": {},
   "outputs": [],
   "source": [
    "interactions = pd.read_csv(\"../../data/recsys17/interim/interactions.csv\", header=0, sep='\\t')\n",
    "# remove interactions of type 'delete'\n",
    "# remve impressions\n",
    "interactions = interactions[interactions.interaction_type >= 1].copy()\n",
    "# remove delete and headhunter event\n",
    "interactions = interactions[interactions.interaction_type < 4].copy()"
   ]
  },
  {
   "cell_type": "code",
   "execution_count": null,
   "metadata": {},
   "outputs": [],
   "source": [
    "#interactions.interaction_type.plot(kind=\"bar\")\n",
    "interaction_sizes = interactions.groupby(\"interaction_type\").size()\n",
    "interaction_sizes"
   ]
  },
  {
   "cell_type": "code",
   "execution_count": null,
   "metadata": {},
   "outputs": [],
   "source": [
    "%matplotlib inline\n",
    "f, ax = plt.subplots(1,1,figsize=(15,8))\n",
    "\n",
    "interaction_sizes.plot(kind=\"bar\", logy=False, ax = ax, color = \"skyblue\", ec=\"black\")\n",
    "#ax.set_xticklabels([\"CLICK\", \"MARK\", \"APPLY\"], rotation='horizontal')\n",
    "\n",
    "font = 10\n",
    "\n",
    "#for tick in ax.xaxis.get_major_ticks():\n",
    "#    tick.label.set_fontsize(12) \n",
    "#for tick in ax.yaxis.get_major_ticks():\n",
    "#    tick.label.set_fontsize(12) \n",
    "    \n",
    "ax.get_yaxis().set_major_formatter(\n",
    "    tck.FuncFormatter(lambda x, p: format(int(x), ',')))\n",
    "\n",
    "ax.set_title('RecSys 2017', fontsize = font)\n",
    "ax.set_xlabel('Interaction Type', fontsize = font)\n",
    "ax.set_ylabel('Num Interactions', fontsize = font)\n",
    "f.tight_layout()\n",
    "f.savefig(\"../../plots/recsys17_interactions.pdf\", dpi=300, bbox_inches='tight')"
   ]
  },
  {
   "cell_type": "code",
   "execution_count": null,
   "metadata": {},
   "outputs": [],
   "source": [
    "%matplotlib inline\n",
    "f, ax = plt.subplots(1,1,figsize=(15,8))\n",
    "\n",
    "session_sizes = interactions.groupby(\"session_id\").size()\n",
    "print(session_sizes.max())\n",
    "session_sizes.plot(kind=\"hist\", logy=True, ax = ax, bins=25, color = \"skyblue\", ec=\"black\")\n",
    "\n",
    "font = 35\n",
    "\n",
    "for tick in ax.xaxis.get_major_ticks():\n",
    "    tick.label.set_fontsize(25) \n",
    "for tick in ax.yaxis.get_major_ticks():\n",
    "    tick.label.set_fontsize(25) \n",
    "\n",
    "ax.set_title('RecSys 2017', fontsize = font)\n",
    "ax.set_xlabel('Interactions in session', fontsize = font)\n",
    "ax.set_ylabel('\\# Sessions', fontsize = font)\n",
    "ax.xaxis.grid(True, which='major', linestyle='-', linewidth=0.35)\n",
    "ax.yaxis.grid(True, which='major', linestyle='-', linewidth=0.35)\n",
    "plt.minorticks_on()\n",
    "f.tight_layout()\n",
    "f.savefig(\"../../plots/recsys17_session_sizes.pdf\", dpi=300, bbox_inches='tight')"
   ]
  },
  {
   "cell_type": "code",
   "execution_count": null,
   "metadata": {},
   "outputs": [],
   "source": [
    "%matplotlib inline\n",
    "f, ax = plt.subplots(1,1,figsize=(10,5))\n",
    "\n",
    "sessions_with_applies = interactions[interactions.interaction_type == 3]\n",
    "\n",
    "session_apply_sizes = sessions_with_applies.groupby(\"session_id\").size()\n",
    "\n",
    "bins = range(11)\n",
    "session_apply_sizes.plot(kind=\"hist\", logy=True, ax = ax, bins=bins, color = \"skyblue\", ec=\"black\")\n",
    "bins_labels(bins, 1, fontsize=14)\n",
    "\n",
    "font = 20\n",
    "\n",
    "for tick in ax.yaxis.get_major_ticks():\n",
    "    tick.label.set_fontsize(14) \n",
    "\n",
    "ax.set_title('RecSys 2017: Job application events', fontsize = font)\n",
    "ax.set_xlabel('Number of apply events within a session', fontsize = font)\n",
    "ax.set_ylabel('\\# Sessions', fontsize = font)\n",
    "ax.xaxis.grid(True, which='major', linestyle='-', linewidth=0.35)\n",
    "ax.yaxis.grid(True, which='major', linestyle='-', linewidth=0.35)\n",
    "f.tight_layout()\n",
    "f.savefig(\"../../plots/recsys17_session_apply_events.pdf\", dpi=300)"
   ]
  },
  {
   "cell_type": "code",
   "execution_count": null,
   "metadata": {},
   "outputs": [],
   "source": [
    "%matplotlib inline\n",
    "train = pd.read_csv(\"../../data/recsys17/processed/train_14d.csv\", sep='\\t')\n",
    "train_sessions = train.groupby(\"session_id\")\n",
    "\n",
    "remind_counts = []\n",
    "\n",
    "for  sid, sgroup in train_sessions:\n",
    "    vc = sgroup[\"item_id\"].value_counts()\n",
    "    vc = vc[vc > 1]\n",
    "    if len(vc) >= 1:\n",
    "        remind_counts.append(len(vc))\n",
    "        \n",
    "df = pd.DataFrame(remind_counts, columns=[\"remind_counts\"])"
   ]
  },
  {
   "cell_type": "code",
   "execution_count": null,
   "metadata": {},
   "outputs": [],
   "source": [
    "df.plot(kind=\"hist\")\n",
    "print(len(train_sessions))\n",
    "print(len(df))\n",
    "df.median()"
   ]
  },
  {
   "cell_type": "code",
   "execution_count": null,
   "metadata": {
    "jupyter": {
     "outputs_hidden": true
    }
   },
   "outputs": [],
   "source": [
    "sessions = interactions.groupby(\"session_id\")\n",
    "\n",
    "small_sessions = sessions.filter(lambda x: len(x) < 3)\n",
    "medium_sessions = sessions.filter(lambda x: len(x) == 3)\n",
    "big_sessions = sessions.filter(lambda x: len(x) >= 3)\n",
    "\n",
    "print(len(small_sessions))\n",
    "print(len(medium_sessions))\n",
    "print(len(big_sessions))\n",
    "\n",
    "%matplotlib inline\n",
    "f, ax = plt.subplots(1,1,figsize=(15,8))\n",
    "\n",
    "\n",
    "bins = range(41)\n",
    "\n",
    "session_sizes = sessions.size()\n",
    "print(session_sizes.max())\n",
    "session_sizes.plot(kind=\"hist\", logy=True, ax = ax, bins=bins, color = \"skyblue\", ec=\"black\")\n",
    "bins_labels(bins, 1, fontsize=14)"
   ]
  },
  {
   "cell_type": "code",
   "execution_count": null,
   "metadata": {},
   "outputs": [],
   "source": [
    "small_interaction_sizes = small_sessions.groupby(\"interaction_type\").size()\n",
    "medium_interaction_sizes = medium_sessions.groupby(\"interaction_type\").size()\n",
    "big_interaction_sizes = big_sessions.groupby(\"interaction_type\").size()"
   ]
  },
  {
   "cell_type": "code",
   "execution_count": null,
   "metadata": {},
   "outputs": [],
   "source": [
    "def plot_sizes(df):\n",
    "    f, ax = plt.subplots(1,1,figsize=(15,8))\n",
    "\n",
    "    df.plot(kind=\"bar\", logy=False, ax = ax, color = \"skyblue\", ec=\"black\")\n",
    "\n",
    "    font = 10\n",
    "\n",
    "\n",
    "    ax.get_yaxis().set_major_formatter(\n",
    "        tck.FuncFormatter(lambda x, p: format(int(x), ',')))\n",
    "\n",
    "    ax.set_title('RecSys 2017', fontsize = font)\n",
    "    ax.set_xlabel('Interaction Type', fontsize = font)\n",
    "    ax.set_ylabel('Num Interactions', fontsize = font)\n",
    "    f.tight_layout()"
   ]
  },
  {
   "cell_type": "code",
   "execution_count": null,
   "metadata": {},
   "outputs": [],
   "source": [
    "plot_sizes(small_interaction_sizes)"
   ]
  },
  {
   "cell_type": "code",
   "execution_count": null,
   "metadata": {},
   "outputs": [],
   "source": [
    "plot_sizes(medium_interaction_sizes)"
   ]
  },
  {
   "cell_type": "code",
   "execution_count": null,
   "metadata": {},
   "outputs": [],
   "source": [
    "plot_sizes(big_interaction_sizes)"
   ]
  },
  {
   "cell_type": "code",
   "execution_count": null,
   "metadata": {},
   "outputs": [],
   "source": [
    "small_items = small_sessions.item_id.unique()\n",
    "medium_items = big_sessions.item_id.unique()\n",
    "\n",
    "setA = set(small_items)\n",
    "setB = set(medium_items)\n",
    "\n",
    "overlap = setA & setB\n",
    "universe = setA | setB\n",
    "\n",
    "result1 = float(len(overlap)) / len(setA) * 100\n",
    "result2 = float(len(overlap)) / len(setB) * 100\n",
    "result3 = float(len(overlap)) / len(universe) * 100\n",
    "\n",
    "print(result1)\n",
    "print(result2)\n",
    "print(result3)"
   ]
  },
  {
   "cell_type": "code",
   "execution_count": null,
   "metadata": {},
   "outputs": [],
   "source": [
    "for key, value in small_items.groupby(\"session_id\"):\n",
    "    print(set(value.item_id.unique()).size())"
   ]
  },
  {
   "cell_type": "code",
   "execution_count": null,
   "metadata": {},
   "outputs": [],
   "source": [
    "small_durations = small_sessions.groupby('session_id')['created_at'].agg(np.ptp)\n",
    "medium_durations = medium_sessions.groupby('session_id')['created_at'].agg(np.ptp)\n",
    "big_durations = big_sessions.groupby('session_id')['created_at'].agg(np.ptp)"
   ]
  },
  {
   "cell_type": "code",
   "execution_count": null,
   "metadata": {},
   "outputs": [],
   "source": [
    "import seaborn as sns\n",
    "sns.set(style=\"whitegrid\")\n",
    "\n",
    "sns.boxplot(x=small_durations, showfliers=False)\n",
    "small_durations.head()"
   ]
  },
  {
   "cell_type": "code",
   "execution_count": null,
   "metadata": {},
   "outputs": [],
   "source": [
    "import seaborn as sns\n",
    "sns.set(style=\"whitegrid\")\n",
    "\n",
    "sns.boxplot(x=medium_durations, showfliers=False)\n",
    "small_durations.head()"
   ]
  },
  {
   "cell_type": "code",
   "execution_count": null,
   "metadata": {},
   "outputs": [],
   "source": [
    "import seaborn as sns\n",
    "sns.set(style=\"whitegrid\")\n",
    "\n",
    "sns.boxplot(x=big_durations, showfliers=False)\n",
    "big_durations.head()"
   ]
  },
  {
   "cell_type": "code",
   "execution_count": null,
   "metadata": {},
   "outputs": [],
   "source": [
    "tiny_durations = [i for i in big_durations if i < 100]\n",
    "\n",
    "print(len(tiny_durations) / len(big_durations))\n",
    "print(len(tiny_durations))\n"
   ]
  },
  {
   "cell_type": "code",
   "execution_count": null,
   "metadata": {},
   "outputs": [],
   "source": [
    "tiny_durations = [i for i in medium_durations if i < 100]\n",
    "\n",
    "print(len(tiny_durations) / len(medium_durations))\n",
    "print(len(tiny_durations))\n"
   ]
  },
  {
   "cell_type": "code",
   "execution_count": null,
   "metadata": {},
   "outputs": [],
   "source": [
    "tiny_durations = [i for i in small_durations if i < 100]\n",
    "\n",
    "\n",
    "print(len(tiny_durations) / len(small_durations))\n",
    "print(len(tiny_durations))\n"
   ]
  },
  {
   "cell_type": "code",
   "execution_count": null,
   "metadata": {},
   "outputs": [],
   "source": [
    "def plot_hist(df):\n",
    "    f, ax = plt.subplots(1,1,figsize=(15,8))\n",
    "\n",
    "    df.plot(kind=\"hist\", logy=True, logx=False, ax = ax, bins=30, color = \"skyblue\", ec=\"black\")\n",
    "\n",
    "    font = 10\n",
    "\n",
    "\n",
    "    ax.get_yaxis().set_major_formatter(\n",
    "        tck.FuncFormatter(lambda x, p: format(int(x), ',')))\n",
    "\n",
    "    ax.set_title('RecSys 2017', fontsize = font)\n",
    "    ax.set_xlabel('Session Duration (ms)', fontsize = font)\n",
    "    ax.set_ylabel('# Sessions', fontsize = font)\n",
    "    ax.set_ylim(1,60000)\n",
    "    ax.set_xlim(-100,7500)\n",
    "\n",
    "    f.tight_layout()"
   ]
  },
  {
   "cell_type": "code",
   "execution_count": null,
   "metadata": {},
   "outputs": [],
   "source": [
    "plot_hist(small_durations)"
   ]
  },
  {
   "cell_type": "code",
   "execution_count": null,
   "metadata": {},
   "outputs": [],
   "source": [
    "plot_hist(medium_durations)"
   ]
  },
  {
   "cell_type": "code",
   "execution_count": null,
   "metadata": {},
   "outputs": [],
   "source": [
    "plot_hist(big_durations)"
   ]
  },
  {
   "cell_type": "code",
   "execution_count": null,
   "metadata": {},
   "outputs": [],
   "source": []
  }
 ],
 "metadata": {
  "kernelspec": {
   "display_name": "Python 3",
   "language": "python",
   "name": "python3"
  },
  "language_info": {
   "codemirror_mode": {
    "name": "ipython",
    "version": 3
   },
   "file_extension": ".py",
   "mimetype": "text/x-python",
   "name": "python",
   "nbconvert_exporter": "python",
   "pygments_lexer": "ipython3",
   "version": "3.7.1"
  }
 },
 "nbformat": 4,
 "nbformat_minor": 4
}
