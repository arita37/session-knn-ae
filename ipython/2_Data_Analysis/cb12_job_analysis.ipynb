{
 "cells": [
  {
   "cell_type": "code",
   "execution_count": null,
   "metadata": {},
   "outputs": [],
   "source": [
    "import numpy as np\n",
    "import pandas as pd\n",
    "import subprocess\n",
    "import argparse\n",
    "import matplotlib.pyplot as plt\n",
    "import matplotlib.ticker as tck\n",
    "#from matplotlib import rc\n",
    "#rc('font', **{'family': 'serif', 'serif': ['Computer Modern']})\n",
    "#rc('text', usetex=True)\n",
    "\n",
    "def bins_labels(bins, startValue=0, **kwargs):\n",
    "    bin_w = (max(bins) - min(bins)) / (len(bins) - 1)\n",
    "    plt.xticks(np.arange(min(bins)+bin_w/2, max(bins), bin_w), bins, **kwargs)\n",
    "    plt.xlim(bins[startValue], bins[-1])"
   ]
  },
  {
   "cell_type": "code",
   "execution_count": null,
   "metadata": {},
   "outputs": [],
   "source": [
    "jobs = pd.read_csv(\"../../data/cb12/interim/items.csv\", header=0, sep='\\t')\n",
    "jobs.head()"
   ]
  },
  {
   "cell_type": "code",
   "execution_count": null,
   "metadata": {},
   "outputs": [],
   "source": [
    "jobs[\"TitTopic\"].plot(kind=\"hist\", bins=20)"
   ]
  },
  {
   "cell_type": "code",
   "execution_count": null,
   "metadata": {},
   "outputs": [],
   "source": [
    "interactions = pd.read_csv(\"../../data/cb12/interim/interactions.csv\", header=0, sep='\\t')\n",
    "interactions.head(3)"
   ]
  },
  {
   "cell_type": "markdown",
   "metadata": {},
   "source": [
    "# Keep only jobs which were interacted with"
   ]
  },
  {
   "cell_type": "code",
   "execution_count": null,
   "metadata": {},
   "outputs": [],
   "source": [
    "content_fields = [\"state\", \"country\", \"TitTopic\", \"DescTopic\", \"ReqTopic\"]\n",
    "common = jobs.merge(interactions, on=['item_id'])[content_fields].drop_duplicates()\n",
    "print(len(common))\n",
    "print(len(interactions))\n",
    "print(len(jobs))\n",
    "common.head()\n",
    "#common = jobs"
   ]
  },
  {
   "cell_type": "code",
   "execution_count": null,
   "metadata": {},
   "outputs": [],
   "source": [
    "common['state'] = common['state'].astype(str)\n",
    "common['state'] = common['state'].replace({\"  \": \"N/A\"})\n",
    "common['country'] = common['country'].astype(str)\n",
    "common['TitTopic'] = common['TitTopic'].astype(str)\n",
    "common['DescTopic'] = common['DescTopic'].astype(str)\n",
    "common['ReqTopic'] = common['ReqTopic'].astype(str)\n",
    "\n",
    "common.describe(include = 'all')"
   ]
  },
  {
   "cell_type": "code",
   "execution_count": null,
   "metadata": {},
   "outputs": [],
   "source": [
    "%matplotlib inline\n",
    "def plot_bar(df, column):\n",
    "    f, ax = plt.subplots(1,1,figsize=(15,8))\n",
    "\n",
    "    df[column] = df[column].str.replace('_',' ')\n",
    "    \n",
    "    df[column].value_counts().plot(kind=\"bar\", ax = ax, color = \"skyblue\", ec=\"black\", logy=True)\n",
    "    ax.tick_params(axis='x', rotation=0)\n",
    "    \n",
    "    font = 50\n",
    "    font_tick = 30\n",
    "\n",
    "    for tick in ax.xaxis.get_major_ticks():\n",
    "        tick.label.set_fontsize(font_tick) \n",
    "    for tick in ax.yaxis.get_major_ticks():\n",
    "        tick.label.set_fontsize(font_tick) \n",
    "    \n",
    "    ax.get_yaxis().set_major_formatter(\n",
    "        tck.FuncFormatter(lambda x, p: format(int(x), ',')))\n",
    "\n",
    "    col_str = column.replace(\"_\", \" \").title()\n",
    "    ax.set_xlabel(col_str, fontsize = font)\n",
    "    ax.set_ylabel('\\# Count', fontsize = font)\n",
    "    f.tight_layout()\n",
    "    f.savefig(\"../../plots/cb12_dist_\" + column + \".pdf\", dpi=300, bbox_inches='tight')"
   ]
  },
  {
   "cell_type": "code",
   "execution_count": null,
   "metadata": {},
   "outputs": [],
   "source": [
    "plot_bar(common, \"TitTopic\")"
   ]
  },
  {
   "cell_type": "code",
   "execution_count": null,
   "metadata": {},
   "outputs": [],
   "source": [
    "plot_bar(common, \"DescTopic\")"
   ]
  },
  {
   "cell_type": "code",
   "execution_count": null,
   "metadata": {},
   "outputs": [],
   "source": [
    "plot_bar(common, \"ReqTopic\")"
   ]
  },
  {
   "cell_type": "code",
   "execution_count": null,
   "metadata": {},
   "outputs": [],
   "source": [
    "plot_bar(common, \"state\")"
   ]
  },
  {
   "cell_type": "code",
   "execution_count": null,
   "metadata": {},
   "outputs": [],
   "source": [
    "plot_bar(common, \"country\")"
   ]
  },
  {
   "cell_type": "code",
   "execution_count": null,
   "metadata": {},
   "outputs": [],
   "source": []
  }
 ],
 "metadata": {
  "kernelspec": {
   "display_name": "Python 3",
   "language": "python",
   "name": "python3"
  },
  "language_info": {
   "codemirror_mode": {
    "name": "ipython",
    "version": 3
   },
   "file_extension": ".py",
   "mimetype": "text/x-python",
   "name": "python",
   "nbconvert_exporter": "python",
   "pygments_lexer": "ipython3",
   "version": "3.7.1"
  }
 },
 "nbformat": 4,
 "nbformat_minor": 4
}
